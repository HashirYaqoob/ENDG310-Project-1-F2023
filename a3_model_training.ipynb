{
  "cells": [
    {
      "cell_type": "code",
      "execution_count": 8,
      "id": "d5150fe4",
      "metadata": {
        "id": "d5150fe4",
        "papermill": {
          "duration": 12.158267,
          "end_time": "2023-03-01T21:40:18.394251",
          "exception": false,
          "start_time": "2023-03-01T21:40:06.235984",
          "status": "completed"
        },
        "tags": []
      },
      "outputs": [],
      "source": [
        "# Install dependencies on colab\n",
        "!pip install -Uqq fastbook"
      ]
    },
    {
      "cell_type": "code",
      "execution_count": 9,
      "id": "9X8msYGlxBlR",
      "metadata": {
        "id": "9X8msYGlxBlR"
      },
      "outputs": [],
      "source": [
        "# Connect to google drive to load images and save model\n",
        "import fastbook\n",
        "fastbook.setup_book()"
      ]
    },
    {
      "cell_type": "code",
      "execution_count": 10,
      "id": "68205a57",
      "metadata": {
        "id": "68205a57",
        "papermill": {
          "duration": 5.440128,
          "end_time": "2023-03-01T21:40:23.841776",
          "exception": false,
          "start_time": "2023-03-01T21:40:18.401648",
          "status": "completed"
        },
        "tags": []
      },
      "outputs": [],
      "source": [
        "from fastai.vision.all import *"
      ]
    },
    {
      "cell_type": "code",
      "source": [
        "from google.colab import drive\n",
        "drive.mount('/content/drive')"
      ],
      "metadata": {
        "id": "xofcc_mBlld5",
        "outputId": "8a4b20a4-ba8b-4081-9353-6d85017baa5a",
        "colab": {
          "base_uri": "https://localhost:8080/"
        }
      },
      "id": "xofcc_mBlld5",
      "execution_count": 13,
      "outputs": [
        {
          "output_type": "stream",
          "name": "stdout",
          "text": [
            "Mounted at /content/drive\n"
          ]
        }
      ]
    },
    {
      "cell_type": "code",
      "source": [
        "digits_path = \"/content/drive/My Drive/Gestures\""
      ],
      "metadata": {
        "id": "CHtpGTfgll05"
      },
      "id": "CHtpGTfgll05",
      "execution_count": 14,
      "outputs": []
    },
    {
      "cell_type": "markdown",
      "id": "807b0d9f",
      "metadata": {
        "id": "807b0d9f",
        "papermill": {
          "duration": 0.007124,
          "end_time": "2023-03-01T21:40:23.856017",
          "exception": false,
          "start_time": "2023-03-01T21:40:23.848893",
          "status": "completed"
        },
        "tags": []
      },
      "source": [
        "# 1. Data loading and augmentation\n",
        "\n",
        "Create a DataBlock and DataLoaders using:\n",
        "- Training and validation images collected in a2\n",
        "- Use `set_seed()` to obtain reproducible results.\n",
        "- Use `item_tfms` and/or `batch_tfms`. Set `min_scale` so that gestures are still visible\n",
        "- Use a batch size of 32\n",
        "\n",
        "Show a training and a validation batch.\n",
        "Show augmentations, i.e. `show_batch()` with `unique=True`."
      ]
    },
    {
      "cell_type": "code",
      "execution_count": 16,
      "id": "cb8f2de1-5358-456b-a1df-4a887392845f",
      "metadata": {
        "id": "cb8f2de1-5358-456b-a1df-4a887392845f"
      },
      "outputs": [],
      "source": [
        "set_seed(32)\n",
        "photos = DataBlock(blocks=(ImageBlock, CategoryBlock),\n",
        "                    get_items=get_image_files,\n",
        "                    splitter=RandomSplitter(),\n",
        "                    get_y=parent_label,\n",
        "                    item_tfms = Resize(128),\n",
        "                    batch_tfms=aug_transforms(min_scale=0.5))\n",
        "\n",
        "photos_dls = photos.dataloaders(digits_path)"
      ]
    },
    {
      "cell_type": "code",
      "source": [
        "photos_dls.train.show_batch()"
      ],
      "metadata": {
        "id": "VEqk9mWImYrz"
      },
      "id": "VEqk9mWImYrz",
      "execution_count": null,
      "outputs": []
    },
    {
      "cell_type": "markdown",
      "id": "6d14b71f",
      "metadata": {
        "id": "6d14b71f",
        "papermill": {
          "duration": 0.030657,
          "end_time": "2023-03-01T21:40:38.741874",
          "exception": false,
          "start_time": "2023-03-01T21:40:38.711217",
          "status": "completed"
        },
        "tags": []
      },
      "source": [
        "### Question 1: What type of item and batch transforms did you use? Can you spot any problems in the training set augmentations, e.g. gestures not visible?\n",
        "*YOUR ANSWER HERE*\n"
      ]
    },
    {
      "cell_type": "markdown",
      "id": "344bd019",
      "metadata": {
        "id": "344bd019",
        "papermill": {
          "duration": 0.030196,
          "end_time": "2023-03-01T21:40:38.802422",
          "exception": false,
          "start_time": "2023-03-01T21:40:38.772226",
          "status": "completed"
        },
        "tags": []
      },
      "source": [
        "# 2. Train the classifier\n",
        "\n",
        "## 2.1 Impact of learning rate\n",
        "With:\n",
        "- Same `set_seed()` as above\n",
        "- Re-creating the same DataLoaders as above\n",
        "- ResNet18 architecture.\n",
        "- error rate as metric.\n",
        "\n",
        "Use three learning rates:\n",
        "- small: 3e-5\n",
        "- medium: 3e-3\n",
        "- large: 1e-1\n",
        "\n",
        "Train the model with each learning rate using `fine_tune` with 10-15 epochs\n"
      ]
    },
    {
      "cell_type": "code",
      "execution_count": null,
      "id": "497d7793-9341-4d19-b38a-21e708e9957f",
      "metadata": {
        "id": "497d7793-9341-4d19-b38a-21e708e9957f"
      },
      "outputs": [],
      "source": []
    },
    {
      "cell_type": "markdown",
      "id": "4c5437c6",
      "metadata": {
        "id": "4c5437c6",
        "papermill": {
          "duration": 0.032709,
          "end_time": "2023-03-01T21:47:06.684502",
          "exception": false,
          "start_time": "2023-03-01T21:47:06.651793",
          "status": "completed"
        },
        "tags": []
      },
      "source": [
        "### Question 2: Which training run resulted in the best model? State number of epochs and final error rate values for all learning rates and identify the best model.\n",
        "*YOUR ANSWER HERE*\n"
      ]
    },
    {
      "cell_type": "markdown",
      "id": "2b4f5499",
      "metadata": {
        "id": "2b4f5499",
        "papermill": {
          "duration": 0.032126,
          "end_time": "2023-03-01T21:47:06.748639",
          "exception": false,
          "start_time": "2023-03-01T21:47:06.716513",
          "status": "completed"
        },
        "tags": []
      },
      "source": [
        "### Question 3: Did any models overfit? Include your reasoning.\n",
        "*YOUR ANSWER HERE*\n"
      ]
    },
    {
      "cell_type": "markdown",
      "id": "730feab5",
      "metadata": {
        "id": "730feab5",
        "papermill": {
          "duration": 0.035202,
          "end_time": "2023-03-01T21:51:21.726048",
          "exception": false,
          "start_time": "2023-03-01T21:51:21.690846",
          "status": "completed"
        },
        "tags": []
      },
      "source": [
        "# 3. Analyze model performance\n",
        "- Retrain the best model from above.\n",
        "- Plot the confusion matrix.\n",
        "- Plot 10 top losses"
      ]
    },
    {
      "cell_type": "code",
      "execution_count": null,
      "id": "32c5796e-215e-4412-8dae-14e7c347fd16",
      "metadata": {
        "id": "32c5796e-215e-4412-8dae-14e7c347fd16"
      },
      "outputs": [],
      "source": []
    },
    {
      "cell_type": "markdown",
      "id": "b915616f",
      "metadata": {
        "id": "b915616f",
        "papermill": {
          "duration": 0.075893,
          "end_time": "2023-03-01T21:52:52.301926",
          "exception": false,
          "start_time": "2023-03-01T21:52:52.226033",
          "status": "completed"
        },
        "tags": []
      },
      "source": [
        "### Question 4: With which gestures does your model have the most problems with?\n",
        "*YOUR ANSWER HERE*\n"
      ]
    },
    {
      "cell_type": "markdown",
      "id": "376f4ddb",
      "metadata": {
        "id": "376f4ddb",
        "papermill": {
          "duration": 0.045052,
          "end_time": "2023-03-01T21:52:52.391467",
          "exception": false,
          "start_time": "2023-03-01T21:52:52.346415",
          "status": "completed"
        },
        "tags": []
      },
      "source": [
        "# 4. Save the best model to file\n",
        "Save the model using `learn.export()` as `.pkl` file. Verify that the model can be reloaded and used to make predictions."
      ]
    },
    {
      "cell_type": "code",
      "execution_count": null,
      "id": "86c1567d-b4c2-4776-b4f0-0210b79013a4",
      "metadata": {
        "id": "86c1567d-b4c2-4776-b4f0-0210b79013a4"
      },
      "outputs": [],
      "source": []
    },
    {
      "cell_type": "markdown",
      "id": "eeed7f42",
      "metadata": {
        "id": "eeed7f42",
        "papermill": {
          "duration": 0.046089,
          "end_time": "2023-03-01T21:52:53.285766",
          "exception": false,
          "start_time": "2023-03-01T21:52:53.239677",
          "status": "completed"
        },
        "tags": []
      },
      "source": [
        "# 5. Summary and Conclusion\n",
        "\n",
        "Summarize the best model:\n",
        "- Training strategy: learning rate and epochs used.\n",
        "- Error rate achieved, summary of confusion matrix, i.e. what kind of errors does the model make.\n",
        "\n",
        "*YOUR ANSWER HERE*\n",
        "\n",
        "\n",
        "Conclusion:\n",
        "- Are you satisfied with model performance? Why, why not?\n",
        "\n",
        "*YOUR ANSWER HERE*\n"
      ]
    },
    {
      "cell_type": "markdown",
      "id": "5a3f4c1d",
      "metadata": {
        "id": "5a3f4c1d",
        "papermill": {
          "duration": 0.046848,
          "end_time": "2023-03-01T21:52:53.381076",
          "exception": false,
          "start_time": "2023-03-01T21:52:53.334228",
          "status": "completed"
        },
        "tags": []
      },
      "source": [
        "# 6.Reflection\n",
        "Include a sentence or two about\n",
        "- what you liked or disliked,\n",
        "- found interesting, confusing, challangeing, motivating\n",
        "\n",
        "while working on this assignment.\n",
        "\n",
        "*YOUR ANSWER HERE*\n"
      ]
    },
    {
      "cell_type": "code",
      "execution_count": null,
      "id": "9c2f51b8",
      "metadata": {
        "id": "9c2f51b8",
        "papermill": {
          "duration": 0.046855,
          "end_time": "2023-03-01T21:52:53.474395",
          "exception": false,
          "start_time": "2023-03-01T21:52:53.427540",
          "status": "completed"
        },
        "tags": []
      },
      "outputs": [],
      "source": []
    }
  ],
  "metadata": {
    "accelerator": "GPU",
    "colab": {
      "gpuType": "T4",
      "provenance": []
    },
    "kernelspec": {
      "display_name": "Python 3 (ipykernel)",
      "language": "python",
      "name": "python3"
    },
    "language_info": {
      "codemirror_mode": {
        "name": "ipython",
        "version": 3
      },
      "file_extension": ".py",
      "mimetype": "text/x-python",
      "name": "python",
      "nbconvert_exporter": "python",
      "pygments_lexer": "ipython3",
      "version": "3.11.11"
    },
    "papermill": {
      "default_parameters": {},
      "duration": 780.326699,
      "end_time": "2023-03-01T21:52:56.327116",
      "environment_variables": {},
      "exception": null,
      "input_path": "__notebook__.ipynb",
      "output_path": "__notebook__.ipynb",
      "parameters": {},
      "start_time": "2023-03-01T21:39:56.000417",
      "version": "2.4.0"
    }
  },
  "nbformat": 4,
  "nbformat_minor": 5
}