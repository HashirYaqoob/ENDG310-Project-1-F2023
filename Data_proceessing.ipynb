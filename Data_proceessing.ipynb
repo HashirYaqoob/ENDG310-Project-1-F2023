{
 "cells": [
  {
   "cell_type": "code",
   "execution_count": 1,
   "metadata": {},
   "outputs": [],
   "source": [
    "#Make dates into decimal dates\n",
    "\n",
    "\n",
    "import csv\n",
    "\n",
    "# Specify the input and output file paths\n",
    "input_file = 'monthly_csv (1).csv'\n",
    "output_file = 'temp.csv'\n",
    "\n",
    "# Read the CSV data into a list of rows\n",
    "with open(input_file, 'r') as csv_file:\n",
    "    csv_reader = csv.reader(csv_file)\n",
    "    data = list(csv_reader)\n",
    "\n",
    "from datetime import datetime\n",
    "\n",
    "# Assuming the date is in the second column (index 1)\n",
    "for row in data[1:]:\n",
    "    date_str = row[1]  # Replace with the appropriate column index\n",
    "    date_obj = datetime.strptime(date_str, '%Y-%m-%d')\n",
    "    decimal_date = date_obj.year + (date_obj.timetuple().tm_yday - 1) / 365.0  # Calculate the decimal date\n",
    "    row[1] = round(decimal_date, 4)  # Round to four decimal places\n",
    "\n",
    "# Write the updated data to a new CSV file\n",
    "with open(output_file, 'w', newline='') as csv_file:\n",
    "    csv_writer = csv.writer(csv_file)\n",
    "    csv_writer.writerows(data)\n",
    "\n"
   ]
  },
  {
   "cell_type": "code",
   "execution_count": 3,
   "metadata": {},
   "outputs": [],
   "source": [
    "#flip dates so they go from earliest to latest\n",
    "\n",
    "import csv\n",
    "\n",
    "# Specify the input and output file paths\n",
    "input_file = 'temp.csv'\n",
    "output_file = 'new_data.csv'\n",
    "\n",
    "# Read the CSV data into a list of rows\n",
    "with open(input_file, 'r') as csv_file:\n",
    "    csv_reader = csv.reader(csv_file)\n",
    "    data = list(csv_reader)\n",
    "\n",
    "# Separate the header row (first row) from the data rows\n",
    "header = data[0]\n",
    "data = data[1:]\n",
    "\n",
    "# Reverse the order of data rows\n",
    "data.reverse()\n",
    "\n",
    "# Add the header row back to the top\n",
    "data.insert(0, header)\n",
    "\n",
    "# Write the reversed data to a new CSV file\n",
    "with open(output_file, 'w', newline='') as csv_file:\n",
    "    csv_writer = csv.writer(csv_file)\n",
    "    csv_writer.writerows(data)\n"
   ]
  },
  {
   "cell_type": "code",
   "execution_count": null,
   "metadata": {},
   "outputs": [],
   "source": []
  }
 ],
 "metadata": {
  "kernelspec": {
   "display_name": "base",
   "language": "python",
   "name": "python3"
  },
  "language_info": {
   "codemirror_mode": {
    "name": "ipython",
    "version": 3
   },
   "file_extension": ".py",
   "mimetype": "text/x-python",
   "name": "python",
   "nbconvert_exporter": "python",
   "pygments_lexer": "ipython3",
   "version": "3.11.4"
  }
 },
 "nbformat": 4,
 "nbformat_minor": 2
}
